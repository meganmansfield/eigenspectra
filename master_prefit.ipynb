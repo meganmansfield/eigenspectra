{
 "cells": [
  {
   "cell_type": "markdown",
   "id": "ccfa0b45",
   "metadata": {},
   "source": [
    "## Import functions and define universal values"
   ]
  },
  {
   "cell_type": "code",
   "execution_count": null,
   "id": "710af330",
   "metadata": {},
   "outputs": [],
   "source": [
    "import numpy as np\n",
    "import matplotlib.pyplot as plt\n",
    "%matplotlib inline\n",
    "\n",
    "import sys\n",
    "sys.path.insert(0,'./code')\n",
    "import run_higher_sph_harm_prefit\n",
    "import plot_utils_deglist\n",
    "\n",
    "#May need to add things\n",
    "\n",
    "lcName='W18_NIRISS_spec_lambin_25_prefit_test_16_v3'\n",
    "planetparams={}\n",
    "planetparams['t0']=2459802.4078798565 #units of days\n",
    "planetparams['per']=0.941452382 #units of days\n",
    "planetparams['a_abs']=0.0218 #units of AU\n",
    "planetparams['inc']=84.35320 #units of degrees\n",
    "planetparams['ecc']=0.0 #unitless\n",
    "planetparams['w']=269. #units of degrees\n",
    "planetparams['rprs']=0.09783 #unitless ratio\n",
    "planetparams['ars']=3.48023 #unitless ratio\n",
    "planetparams['t_sec']=2459802.8786060475 #units of days\n"
   ]
  },
  {
   "cell_type": "markdown",
   "id": "e319440c",
   "metadata": {},
   "source": [
    "## Load in data and set up data dictionary"
   ]
  },
  {
   "cell_type": "code",
   "execution_count": null,
   "id": "8f135b9d",
   "metadata": {
    "scrolled": false
   },
   "outputs": [],
   "source": [
    "waveind=16 #for fitting a single wavelength\n",
    "specfile=np.load('./real_spec/bin25/ind_bins_'+str(waveind)+'.npz')\n",
    "#specfile=np.load('spec_lambin_25.npz')\n",
    "time=specfile['arr_0']\n",
    "#waves=specfile['arr_1']\n",
    "waves=np.array([specfile['arr_1']])\n",
    "fluxes=specfile['arr_2']+10**6.\n",
    "errs=specfile['arr_3']\n",
    "extent=np.zeros(2)\n",
    "extent[0]=(np.min(time)-planetparams['t_sec'])/planetparams['per']*2.*np.pi-np.pi/2. #minimum observed point, in radians\n",
    "extent[1]=(np.max(time)-planetparams['t_sec'])/planetparams['per']*2.*np.pi+np.pi/2. #maximum observed point, in radians\n",
    "print(extent*180./np.pi)\n",
    "\n",
    "plt.figure()\n",
    "plt.errorbar(time,fluxes,yerr=errs,color='k',marker='.',linestyle='none')\n",
    "plt.show()\n",
    "\n",
    "datadict={\"time (days)\":time, \"wavelength (um)\":waves, \"flux (ppm)\": fluxes, \"flux err (ppm)\": errs}\n"
   ]
  },
  {
   "cell_type": "markdown",
   "id": "131c1c7a",
   "metadata": {},
   "source": [
    "## Perform eigencurve fitting at each wavelength"
   ]
  },
  {
   "cell_type": "code",
   "execution_count": null,
   "id": "5af9039d",
   "metadata": {
    "scrolled": true
   },
   "outputs": [],
   "source": [
    "\n",
    "#Test fitting with spherical harmonics to order=2,3,4\n",
    "#Afew>=20 will fit for the correct number of coefficients\n",
    "saveDir = \"./data/sph_harmonic_coefficients_full_samples/\" + lcName\n",
    "for oneOrd in np.arange(3,7):\n",
    "    for afew in np.arange(2,7):\n",
    "        run_higher_sph_harm_prefit.run_lc_fit(datadict,planetparams,norder=oneOrd,lcName=lcName,saveDir=saveDir,\\\n",
    "                                              afew=int(afew),burnin=3000,nsteps=30000,plot=True,strict=False,nonegs=True)\n"
   ]
  },
  {
   "cell_type": "markdown",
   "id": "3b4f65ad",
   "metadata": {},
   "source": [
    "## Plot 2D maps"
   ]
  },
  {
   "cell_type": "code",
   "execution_count": null,
   "id": "b77fbcb0",
   "metadata": {},
   "outputs": [],
   "source": [
    "dataDir=saveDir+'/'\n",
    "for i in np.arange(20):\n",
    "    waves, lats, lons, mapLowMedHigh = plot_utils.get_map_and_plot(planetparams,dataDir,afew=20,waveInd=0,degree=3,isspider=False,saveName='W18_spec')\n",
    "#FINDME: using a different waveInd will show maps at a different wavelength\n",
    "#using a different degree will show a fit with a different number of spherical harmonics\n",
    "#isspider=False uses Arthur's implementation of converting from lightcurves to maps (faster than the SPIDERMAN method and identical maps are produced)\n",
    "#The middle map (labeled 50th percentile map) shows the single best-fit map with the lowest chi-squared"
   ]
  },
  {
   "cell_type": "markdown",
   "id": "382d1075",
   "metadata": {},
   "source": [
    "## Converting Fp/Fs map into planet temperature map"
   ]
  },
  {
   "cell_type": "code",
   "execution_count": null,
   "id": "c3595ebd",
   "metadata": {},
   "outputs": [],
   "source": [
    "Ts=6400.\n",
    "# c=2.998*10**8.\n",
    "# h=6.626*10**-34.\n",
    "# kb=1.381*10**-23.\n",
    "# lam=1.7*10**-6.\n",
    "rprs=planetparams['rprs']\n",
    "medianmap=mapLowMedHigh[1][0]\n",
    "medianmap[medianmap<0.]=0. #FINDME: remove this if you want the real fluxes instead of removing fluxes below zero\n",
    "mapinTemp=plot_utils.plot_map_in_temp(Ts,lam,dlam,rprs,lats,lons,medianmap,extent,waveInd=0,degree=3,plot=True,saveName='W18_spec')\n"
   ]
  },
  {
   "cell_type": "markdown",
   "id": "5944778b",
   "metadata": {},
   "source": [
    "## Calculate brightest point in longitude and latitude"
   ]
  },
  {
   "cell_type": "code",
   "execution_count": null,
   "id": "29d6e73d",
   "metadata": {},
   "outputs": [],
   "source": [
    "hotlats,hotlons = plot_utils.find_hotspot(planetparams,dataDir,afew=20,waveInd=0,degree=3,saveName='W18_spec',isspider=False)\n"
   ]
  },
  {
   "cell_type": "code",
   "execution_count": null,
   "id": "42cb115e",
   "metadata": {},
   "outputs": [],
   "source": []
  }
 ],
 "metadata": {
  "kernelspec": {
   "display_name": "Python 3 (ipykernel)",
   "language": "python",
   "name": "python3"
  },
  "language_info": {
   "codemirror_mode": {
    "name": "ipython",
    "version": 3
   },
   "file_extension": ".py",
   "mimetype": "text/x-python",
   "name": "python",
   "nbconvert_exporter": "python",
   "pygments_lexer": "ipython3",
   "version": "3.9.12"
  }
 },
 "nbformat": 4,
 "nbformat_minor": 5
}
