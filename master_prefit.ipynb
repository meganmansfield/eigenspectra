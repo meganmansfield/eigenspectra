{
 "cells": [
  {
   "cell_type": "markdown",
   "id": "ccfa0b45",
   "metadata": {},
   "source": [
    "## Import functions and define universal values"
   ]
  },
  {
   "cell_type": "code",
   "execution_count": null,
   "id": "710af330",
   "metadata": {},
   "outputs": [],
   "source": [
    "import numpy as np\n",
    "import matplotlib.pyplot as plt\n",
    "%matplotlib inline\n",
    "\n",
    "import sys\n",
    "sys.path.insert(0,'./code')\n",
    "import run_higher_sph_harm_prefit\n",
    "\n",
    "#May need to add things\n",
    "\n",
    "lcName='W18_NIRISS_spec_lambin_25_prefit_test_16_v3'\n",
    "planetparams={}\n",
    "planetparams['t0']=2459802.4078798565 #units of days\n",
    "planetparams['per']=0.941452382 #units of days\n",
    "planetparams['a_abs']=0.0218 #units of AU\n",
    "planetparams['inc']=84.35320 #units of degrees\n",
    "planetparams['ecc']=0.0 #unitless\n",
    "planetparams['w']=269. #units of degrees\n",
    "planetparams['rprs']=0.09783 #unitless ratio\n",
    "planetparams['ars']=3.48023 #unitless ratio\n",
    "planetparams['t_sec']=2459802.8786060475 #units of days\n"
   ]
  },
  {
   "cell_type": "markdown",
   "id": "e319440c",
   "metadata": {},
   "source": [
    "## Load in data and set up data dictionary"
   ]
  },
  {
   "cell_type": "code",
   "execution_count": null,
   "id": "8f135b9d",
   "metadata": {
    "scrolled": false
   },
   "outputs": [],
   "source": [
    "waveind=16 #for fitting a single wavelength\n",
    "specfile=np.load('./real_spec/bin25/ind_bins_'+str(waveind)+'.npz')\n",
    "#specfile=np.load('spec_lambin_25.npz')\n",
    "time=specfile['arr_0']\n",
    "#waves=specfile['arr_1']\n",
    "waves=np.array([specfile['arr_1']])\n",
    "fluxes=specfile['arr_2']+10**6.\n",
    "errs=specfile['arr_3']\n",
    "extent=np.zeros(2)\n",
    "extent[0]=(np.min(time)-planetparams['t_sec'])/planetparams['per']*2.*np.pi-np.pi/2. #minimum observed point, in radians\n",
    "extent[1]=(np.max(time)-planetparams['t_sec'])/planetparams['per']*2.*np.pi+np.pi/2. #maximum observed point, in radians\n",
    "print(extent*180./np.pi)\n",
    "\n",
    "plt.figure()\n",
    "plt.errorbar(time,fluxes,yerr=errs,color='k',marker='.',linestyle='none')\n",
    "plt.show()\n",
    "\n",
    "datadict={\"time (days)\":time, \"wavelength (um)\":waves, \"flux (ppm)\": fluxes, \"flux err (ppm)\": errs}\n"
   ]
  },
  {
   "cell_type": "markdown",
   "id": "131c1c7a",
   "metadata": {},
   "source": [
    "## Perform eigencurve fitting at each wavelength"
   ]
  },
  {
   "cell_type": "code",
   "execution_count": null,
   "id": "5af9039d",
   "metadata": {
    "scrolled": true
   },
   "outputs": [],
   "source": [
    "\n",
    "#Test fitting with spherical harmonics to order=2,3,4\n",
    "#Afew>=20 will fit for the correct number of coefficients\n",
    "saveDir = \"./data/sph_harmonic_coefficients_full_samples/\" + lcName\n",
    "for oneOrd in np.arange(3,7):\n",
    "    for afew in np.arange(2,7):\n",
    "        run_higher_sph_harm_prefit.run_lc_fit(datadict,planetparams,norder=oneOrd,lcName=lcName,saveDir=saveDir,\\\n",
    "                                              afew=int(afew),burnin=3000,nsteps=30000,plot=True,strict=False,nonegs=True)\n"
   ]
  },
  {
   "cell_type": "code",
   "execution_count": null,
   "id": "42cb115e",
   "metadata": {},
   "outputs": [],
   "source": []
  }
 ],
 "metadata": {
  "kernelspec": {
   "display_name": "Python 3 (ipykernel)",
   "language": "python",
   "name": "python3"
  },
  "language_info": {
   "codemirror_mode": {
    "name": "ipython",
    "version": 3
   },
   "file_extension": ".py",
   "mimetype": "text/x-python",
   "name": "python",
   "nbconvert_exporter": "python",
   "pygments_lexer": "ipython3",
   "version": "3.9.12"
  }
 },
 "nbformat": 4,
 "nbformat_minor": 5
}
