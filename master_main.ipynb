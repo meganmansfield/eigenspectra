{
 "cells": [
  {
   "cell_type": "markdown",
   "id": "ccfa0b45",
   "metadata": {},
   "source": [
    "## Import functions and define universal values"
   ]
  },
  {
   "cell_type": "code",
   "execution_count": null,
   "id": "710af330",
   "metadata": {},
   "outputs": [],
   "source": [
    "import numpy as np\n",
    "import matplotlib.pyplot as plt\n",
    "%matplotlib inline\n",
    "\n",
    "import sys\n",
    "sys.path.insert(0,'./code')\n",
    "import run_higher_sph_harm\n",
    "import plot_utils\n",
    "\n",
    "lcName='W18_NIRISS_spec_priors_bin25_test'\n",
    "planetparams={}\n",
    "planetparams['t0']=2459802.4078798565 #units of days\n",
    "planetparams['per']=0.941452382 #units of days\n",
    "planetparams['a_abs']=0.0218 #units of AU\n",
    "planetparams['inc']=84.35320 #units of degrees\n",
    "planetparams['ecc']=0.0 #unitless\n",
    "planetparams['w']=269. #units of degrees\n",
    "planetparams['rprs']=0.09783 #unitless ratio\n",
    "planetparams['ars']=3.48023 #unitless ratio\n",
    "planetparams['t_sec']=2459802.8786060475 #units of days"
   ]
  },
  {
   "cell_type": "markdown",
   "id": "e319440c",
   "metadata": {},
   "source": [
    "## Load in data and set up data dictionary"
   ]
  },
  {
   "cell_type": "code",
   "execution_count": null,
   "id": "8f135b9d",
   "metadata": {},
   "outputs": [],
   "source": [
    "homedir='/Users/megan/Documents/Projects/JWST_ERS/EclipseMap/'\n",
    "specfile=np.load(homedir+'/real_spec/bin25/spec_lambin_25.npz')\n",
    "time=specfile['arr_0']\n",
    "waves=specfile['arr_1']\n",
    "dlam=specfile['arr_2']#np.diff(waves)[0]*np.ones_like(waves)\n",
    "fluxes=specfile['arr_3']+10**6.\n",
    "errs=specfile['arr_4']\n",
    "extent=np.zeros(2)\n",
    "extent[0]=(np.min(time)-planetparams['t_sec'])/planetparams['per']*2.*np.pi-np.pi/2. #minimum observed point, in radians\n",
    "extent[1]=(np.max(time)-planetparams['t_sec'])/planetparams['per']*2.*np.pi+np.pi/2. #maximum observed point, in radians\n",
    "print(extent*180./np.pi)\n",
    "\n",
    "plt.figure()\n",
    "plt.errorbar(time,fluxes[3,:],yerr=errs[3,:],color='k',marker='.',linestyle='none')\n",
    "plt.show()\n",
    "\n",
    "datadict={\"time (days)\":time, \"wavelength (um)\":waves, \"flux (ppm)\": fluxes, \"flux err (ppm)\": errs}\n"
   ]
  },
  {
   "cell_type": "markdown",
   "id": "131c1c7a",
   "metadata": {},
   "source": [
    "## Perform eigencurve fitting at each wavelength"
   ]
  },
  {
   "cell_type": "code",
   "execution_count": null,
   "id": "5af9039d",
   "metadata": {
    "scrolled": true
   },
   "outputs": [],
   "source": [
    "#Test fitting with spherical harmonics to order=2,3,4\n",
    "#Afew>=20 will fit for the correct number of coefficients\n",
    "saveDir = homedir+\"/data/sph_harmonic_coefficients_full_samples/\" + lcName\n",
    "firstfits = homedir+\"/data/besteigenlists/W18_NIRISS_spec_lambin_25_prefit_all/\"\n",
    "run_higher_sph_harm.run_lc_fit(datadict,planetparams,norder=[5,3,6,5,5,5,3,6,5,4,4,4,5,4,5,3,4,4,3,3,4,5,5,6,4]\\\n",
    "                                    ,lcName=lcName,\\\n",
    "                                    saveDir=saveDir,firstfits=firstfits,afew=[3,3,5,2,2,2,2,2,2,2,2,2,2,2,2,2,3,2,2,2,2,2,2,2,2],\\\n",
    "                                    burnin=700,nsteps=7000,plot=False,strict=False,nonegs=True)\n",
    "    \n",
    "#[5,3,6,5,5,5,3,6,5,4,4,4,5,4,5,3,4,4,3,3,4,5,5,6,4] for bin 25 fiducial norder\n",
    "#[3,3,5,2,2,2,2,2,2,2,2,2,2,2,2,2,3,2,2,2,2,2,2,2,2] for bin 25 fiducial afew\n",
    "#[4,6,5,3,4] for bin 05 fiducial norder\n",
    "#[3,3,6,2,3] for bin 05 fiducial afew\n",
    "#[5,5,3,3,5,6,6,3] for optbin 08 fiducial norder\n",
    "#[2,4,4,2,2,2,2,2] for optbin 08 fiducial afew\n",
    "#[5,5,5,3,4,6,6,3] for optbin 08 alternate norder\n",
    "#[2,4,3,2,3,2,2,2] for optbin 08 alternate afew\n",
    "#[5,3,4,4,5,5,3,6,5,4,4,4,5,3,4,4,4,4,3,3,4,5,5,6,4] for bin 25 alternate norder\n",
    "#[3,2,4,4,2,2,2,2,2,2,2,2,2,3,3,3,2,2,3,2,2,2,2,2,2] for bin 25 alternate afew\n"
   ]
  },
  {
   "cell_type": "markdown",
   "id": "3b4f65ad",
   "metadata": {},
   "source": [
    "## Plot 2D maps: Convert from spherical harmonics to maps"
   ]
  },
  {
   "cell_type": "code",
   "execution_count": null,
   "id": "a2e25af1",
   "metadata": {},
   "outputs": [],
   "source": [
    "f=np.load('./data/sph_harmonic_coefficients_full_samples/W18_NIRISS_spec_priors_bin25_newcode/spherearray_deg_list.npz',allow_pickle=True)\n",
    "outDictionary=f['arr_0'].tolist()\n",
    "eigensamples=outDictionary['eigencurve coefficients']\n",
    "vals=np.zeros(len(eigensamples))\n",
    "for i in np.arange(len(eigensamples)):\n",
    "    vals[i]=np.shape(eigensamples[i])[0]\n",
    "numsamp=np.min(vals)\n",
    "print(vals)"
   ]
  },
  {
   "cell_type": "code",
   "execution_count": null,
   "id": "a70ae205",
   "metadata": {
    "scrolled": true
   },
   "outputs": [],
   "source": [
    "dataDir=saveDir+'/'\n",
    "dataDir=\"./data/sph_harmonic_coefficients_full_samples/W18_NIRISS_spec_priors_bin25_newcode/\"\n",
    "deglist=[5,5,3,3,5,6,6,3]\n",
    "eigenlist=[2,4,4,2,2,2,2,2]\n",
    "outputDir='./data/normalized_maps/deg_list_bin25_newcode/flux_maps/'\n",
    "londim=360 #360 is one point per degree 120 40\n",
    "latdim=180 #180 is one point per degree 60 20\n",
    "outputpath = plot_utils.retrieve_map_full_samples\\\n",
    "    (planetparams,dataDir,outputDir,londim,latdim,afew=eigenlist,degree=deglist,nrandom='all',isspider=False)\n"
   ]
  },
  {
   "cell_type": "code",
   "execution_count": null,
   "id": "7ea46628",
   "metadata": {},
   "outputs": [],
   "source": [
    "#calculate minimum and maximum flux\n",
    "outputpath='./data/normalized_maps/deg_list_bin25_newcode/flux_maps/'\n",
    "minflux,maxflux=plot_utils.calc_minmax(outputpath,extent)\n",
    "print(minflux,maxflux)\n",
    "#minflux=-1.7370372118450387e-05 for bin25 fiducial\n",
    "#maxflux=0.0013331443311678265 for bin25 fiducial\n",
    "#minflux = -1.482361330749393e-05 for bin5 fiducial\n",
    "#maxflux = 0.0012410430842583183 for bin5 fiducial\n",
    "#minflux = -1.5865805733546162e-05 for optbin8 fiducial\n",
    "#maxflux = 0.0011568188607426996 for optbin8 fiducial\n",
    "#minflux = -1.4375074707538006e-05 for bin25 alt\n",
    "#maxflux = 0.0013035095538206328 for bin25 alt\n",
    "#minflux = -1.5864596749491696e-05 for bin8 alt\n",
    "#maxflux = 0.0011565753038259305 for bin8 alt\n",
    "#minflux = -1.4179303302826664e-05 for bin25 newcode\n",
    "#maxflux = 0.0013043111883153209 for bin 25 newcode"
   ]
  },
  {
   "cell_type": "markdown",
   "id": "8dbc46e5",
   "metadata": {},
   "source": [
    "## Plot 2D Maps: Perform Plotting"
   ]
  },
  {
   "cell_type": "code",
   "execution_count": null,
   "id": "e5b5a33a",
   "metadata": {
    "scrolled": true
   },
   "outputs": [],
   "source": [
    "outputpath='./data/normalized_maps/deg_list_bin25_newcode/flux_maps/'\n",
    "minflux=0\n",
    "maxflux=0.0013043111883153209\n",
    "mapLowMedHigh = plot_utils.plot_retrieved_map(outputpath,waves,extent,minflux,maxflux,waveInd='Full',\\\n",
    "                                                          saveName='W18_spec_bin25')"
   ]
  },
  {
   "cell_type": "code",
   "execution_count": null,
   "id": "8577e1ae",
   "metadata": {},
   "outputs": [],
   "source": [
    "\n"
   ]
  },
  {
   "cell_type": "code",
   "execution_count": null,
   "id": "c42100fe",
   "metadata": {},
   "outputs": [],
   "source": [
    "Tstar=6400.\n",
    "rprs=planetparams['rprs']\n",
    "savepath='./data/normalized_maps/deg_list_bin25_newcode/temp_maps/'\n",
    "datadir='./data/normalized_maps/deg_list_bin25_newcode/flux_maps/'\n",
    "#if reading in a model, the wavelengths must be in units of m and the flux must be in units of W/m^3/sr\n",
    "smodel=np.loadtxt('./PHOENIX_W18_Teff_6435K_logg_4.35_corrunit.txt')\n",
    "test=plot_utils.plot_map_in_temp(datadir,savepath,waves,dlam,rprs,extent,waveInd='Full',\\\n",
    "                                         saveName='W18_spec_bin25',startype='Temp',Tstar=Tstar,smodel=smodel)\n"
   ]
  },
  {
   "cell_type": "markdown",
   "id": "0711b1f1",
   "metadata": {},
   "source": [
    "## Calculate brightest point in longitude and latitude"
   ]
  },
  {
   "cell_type": "code",
   "execution_count": null,
   "id": "5ae500fe",
   "metadata": {},
   "outputs": [],
   "source": [
    "outputpath='./data/normalized_maps/deg_list_bin25_newcode/flux_maps/'\n",
    "min_lon=-20\n",
    "max_lon=20\n",
    "step_size=1\n",
    "hotlats,hotlons = plot_utils.find_hotspot(outputpath,waves,min_lon,max_lon,step_size,waveInd='Full',\\\n",
    "                                                  saveName='W18_spec_bin25')\n"
   ]
  },
  {
   "cell_type": "code",
   "execution_count": null,
   "id": "00e7dd45",
   "metadata": {},
   "outputs": [],
   "source": [
    "from matplotlib import rc\n",
    "rc('axes',linewidth=2)\n",
    "plt.figure()\n",
    "# plt.errorbar(waves,hotlats[:,1],yerr=[(hotlats[:,1]-hotlats[:,0]),(hotlats[:,2]-hotlats[:,1])],color='b',\\\n",
    "             #label='Latitude',marker='.',linestyle='none',markersize=15,linewidth=3)\n",
    "plt.errorbar(waves,hotlons[:,2],yerr=[(hotlons[:,4]-hotlons[:,2]),(hotlons[:,2]-hotlons[:,0])],color='r',\\\n",
    "             label='Longitude',marker='.',linestyle='none',markersize=15,linewidth=3)\n",
    "plt.tick_params(labelsize=20,axis=\"both\",top=True,right=True,width=2,length=8,direction='in')\n",
    "plt.legend(fontsize=15)\n",
    "plt.xlabel('Wavelength [$\\mu$m]',fontsize=20)\n",
    "plt.ylabel('Hotspot Offset [$\\degree$]',fontsize=20)\n",
    "plt.tight_layout()\n",
    "plt.savefig(outputpath+'hotspot_offset_longonly.pdf')\n",
    "plt.show()\n",
    "newfile=open('hotspot_offset_bin25.txt','w')\n",
    "for i in np.arange(len(waves)):\n",
    "    print(waves[i],hotlons[i,0],hotlons[i,1],hotlons[i,2],hotlons[i,3],hotlons[i,4],file=newfile)\n",
    "newfile.close()"
   ]
  },
  {
   "cell_type": "markdown",
   "id": "f2d48650",
   "metadata": {},
   "source": [
    "## Perform grouping"
   ]
  },
  {
   "cell_type": "code",
   "execution_count": null,
   "id": "42cb115e",
   "metadata": {},
   "outputs": [],
   "source": [
    "dataDir='./data/normalized_maps/deg_list_bin25_newcode/flux_maps/'\n",
    "ngroups=2 #FINDME: change ngroups to cluster the data into a different number of eigengroups\n",
    "#If the kernel dies, use a smaller number of samples.\n",
    "numsamp=500\n",
    "eigenspec,eigenerr,grouping,fullplanetspec,fullplaneterr = plot_utils.find_groups(dataDir,waves,\\\n",
    "                            extent,numsamp,ngroups=ngroups,letters=True)\n",
    "#FINDME: can change trySamples to set the number of MCMC draws you'd like to use to find the groups (larger number will make it run slower)"
   ]
  },
  {
   "cell_type": "code",
   "execution_count": null,
   "id": "83795031",
   "metadata": {},
   "outputs": [],
   "source": [
    "#convert eigenspectra to temperatures\n",
    "dataDir='./data/normalized_maps/deg_list_bin25_newcode/flux_maps/'\n",
    "ngroups=4 #FINDME: change ngroups to cluster the data into a different number of eigengroups\n",
    "#If the kernel dies, use a smaller number of samples.\n",
    "numsamp=500\n",
    "rprs=planetparams['rprs']\n",
    "smodel=np.loadtxt('./PHOENIX_W18_Teff_6435K_logg_4.35_corrunit.txt')\n",
    "Tstar=6400.\n",
    "tempspec,temperr=plot_utils.group_spectra_in_temp(dataDir,numsamp,ngroups,dlam,rprs,startype='Temp',Tstar=Tstar,smodel=smodel)\n",
    "\n"
   ]
  },
  {
   "cell_type": "code",
   "execution_count": null,
   "id": "80fcc8b8",
   "metadata": {},
   "outputs": [],
   "source": [
    "print(tempspec)\n",
    "print(waves)\n",
    "print(np.shape(tempspec))\n",
    "print(np.shape(temperr))\n",
    "# print(fullplanetspec,fullplaneterr)\n",
    "newfile=open('temp_spec_25bins_4groups.txt','w')\n",
    "for i in np.arange(np.shape(waves)[0]):\n",
    "    print(waves[i],tempspec[0,i],temperr[0,i,0],temperr[0,i,1],tempspec[1,i],temperr[1,i,0],temperr[1,i,1],\\\n",
    "          tempspec[2,i],temperr[2,i,0],temperr[2,i,1],tempspec[3,i],temperr[3,i,0],temperr[3,i,1],file=newfile)\n",
    "newfile.close()"
   ]
  },
  {
   "cell_type": "markdown",
   "id": "e6269465",
   "metadata": {},
   "source": [
    "\n"
   ]
  },
  {
   "cell_type": "code",
   "execution_count": null,
   "id": "63f13fea",
   "metadata": {
    "scrolled": true
   },
   "outputs": [],
   "source": [
    "savedir='./data/normalized_maps/deg_list_bin25_newcode/flux_maps/'\n",
    "ngroups=3\n",
    "numsamp=500\n",
    "plot_utils.do_hue_maps(savedir,numsamp,ngroups,hueType='group')\n",
    "\n"
   ]
  },
  {
   "cell_type": "code",
   "execution_count": null,
   "id": "209ace7a",
   "metadata": {},
   "outputs": [],
   "source": [
    "savedir='./data/normalized_maps/deg_list_bin25_newcode/flux_maps/'\n",
    "ngroups=3\n",
    "numsamp=500\n",
    "plot_utils.do_hue_maps(savedir,numsamp,ngroups,hueType='flux')\n",
    "\n"
   ]
  },
  {
   "cell_type": "code",
   "execution_count": null,
   "id": "59c5acad",
   "metadata": {},
   "outputs": [],
   "source": []
  },
  {
   "cell_type": "code",
   "execution_count": null,
   "id": "dd56440b",
   "metadata": {},
   "outputs": [],
   "source": []
  },
  {
   "cell_type": "code",
   "execution_count": null,
   "id": "c67f7a09",
   "metadata": {},
   "outputs": [],
   "source": []
  }
 ],
 "metadata": {
  "kernelspec": {
   "display_name": "Python 3 (ipykernel)",
   "language": "python",
   "name": "python3"
  },
  "language_info": {
   "codemirror_mode": {
    "name": "ipython",
    "version": 3
   },
   "file_extension": ".py",
   "mimetype": "text/x-python",
   "name": "python",
   "nbconvert_exporter": "python",
   "pygments_lexer": "ipython3",
   "version": "3.7.12"
  }
 },
 "nbformat": 4,
 "nbformat_minor": 5
}
